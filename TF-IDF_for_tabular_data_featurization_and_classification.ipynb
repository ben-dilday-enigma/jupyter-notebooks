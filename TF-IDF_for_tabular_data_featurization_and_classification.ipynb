{
 "cells": [
  {
   "cell_type": "markdown",
   "metadata": {},
   "source": [
    "# TF-IDF for database columns\n",
    "\n",
    "This notebook describes applying TF-IDF to database columns. It generate some synthetic data, featurizers the data, applies TF-IDF and visualizes the results with t-SNE. There is a corresponding blog post at [LINK HERE]"
   ]
  },
  {
   "cell_type": "markdown",
   "metadata": {},
   "source": [
    "#### Load some libraries and set some plotting configurations"
   ]
  },
  {
   "cell_type": "code",
   "execution_count": 1,
   "metadata": {},
   "outputs": [],
   "source": [
    "import numpy as np\n",
    "import pandas as pd\n",
    "import seaborn as sns\n",
    "%matplotlib inline\n",
    "from matplotlib import pyplot as plt"
   ]
  },
  {
   "cell_type": "code",
   "execution_count": 2,
   "metadata": {},
   "outputs": [],
   "source": [
    "sns.set()\n",
    "sns.set_style(\"whitegrid\")\n",
    "sns.set_context(\"paper\", \n",
    "                rc={\"font.size\":8,\"axes.labelsize\":10,\n",
    "                    \"xtick.labelsize\":10, \"ytick.labelsize\":10})"
   ]
  },
  {
   "cell_type": "code",
   "execution_count": 3,
   "metadata": {},
   "outputs": [],
   "source": [
    "from sklearn.ensemble import RandomForestClassifier\n",
    "from sklearn.feature_extraction.text import TfidfVectorizer\n",
    "from sklearn.manifold import TSNE"
   ]
  },
  {
   "cell_type": "code",
   "execution_count": 4,
   "metadata": {},
   "outputs": [],
   "source": [
    "from collections import OrderedDict, Counter"
   ]
  },
  {
   "cell_type": "code",
   "execution_count": 5,
   "metadata": {},
   "outputs": [],
   "source": [
    "from faker import Faker\n",
    "fake = Faker()\n",
    "fake.seed(101)"
   ]
  },
  {
   "cell_type": "markdown",
   "metadata": {},
   "source": [
    "#### Some useful functions and variables"
   ]
  },
  {
   "cell_type": "code",
   "execution_count": 6,
   "metadata": {},
   "outputs": [],
   "source": [
    "synthetic_data_factories = OrderedDict({\"email\": fake.email, \n",
    "             \"phone_number\": fake.phone_number, \n",
    "             \"float_number\": lambda: str(np.random.uniform(-180, 180)), \n",
    "             \"binary_number\": lambda: str(np.random.randint(0, 2)),\n",
    "             \"UUID\": fake.uuid4})"
   ]
  },
  {
   "cell_type": "code",
   "execution_count": 7,
   "metadata": {},
   "outputs": [],
   "source": [
    "placeholders = OrderedDict({\"-\": 1, \"\": 1, \"0\": 1})"
   ]
  },
  {
   "cell_type": "code",
   "execution_count": 8,
   "metadata": {},
   "outputs": [],
   "source": [
    "def simulated_column_data(factory, num_rows, placeholders, placeholder_probability=0):\n",
    "    column = []\n",
    "    placeholder_selection_frequency = [\n",
    "        val / sum(placeholders.values()) for val in placeholders.values()\n",
    "    ]\n",
    "    for _ in range(num_rows):\n",
    "        is_placeholder = np.random.uniform(0, 1) < placeholder_probability\n",
    "        placeholder_value = np.random.choice(\n",
    "            list(placeholders.keys()), \n",
    "            size=1, \n",
    "            p=placeholder_selection_frequency)[0]\n",
    "        if is_placeholder:\n",
    "            cell_value = placeholder_value\n",
    "        else:\n",
    "            cell_value = factory()\n",
    "        column.append(cell_value)\n",
    "    return column"
   ]
  },
  {
   "cell_type": "markdown",
   "metadata": {},
   "source": [
    "#### generate the synthetic data"
   ]
  },
  {
   "cell_type": "code",
   "execution_count": 9,
   "metadata": {},
   "outputs": [],
   "source": [
    "dataframe_list = []\n",
    "placeholder_prob = 0.9\n",
    "columns_per_class = 20\n",
    "labels = []\n",
    "for data_class, synthetic_data_factory in synthetic_data_factories.items():\n",
    "    for column_idx in range(columns_per_class):\n",
    "        labels.append(data_class)\n",
    "        \n",
    "        df = pd.DataFrame(\n",
    "            {\"column_name\": \"{}{:03d}\".format(data_class, column_idx+1),\n",
    "             \"data_class\": data_class, \n",
    "             \"cell_value\": simulated_column_data(\n",
    "                 synthetic_data_factory, \n",
    "                 100, \n",
    "                 placeholders, \n",
    "                 placeholder_prob\n",
    "             )\n",
    "            }\n",
    "        )\n",
    "        dataframe_list.append(df)\n",
    "df = pd.concat(dataframe_list, axis=0)\n",
    "labels = np.array(labels)"
   ]
  },
  {
   "cell_type": "markdown",
   "metadata": {},
   "source": [
    "The most common values. Note that values are typically very common (placeholders) or unique (authentic data)"
   ]
  },
  {
   "cell_type": "code",
   "execution_count": 10,
   "metadata": {},
   "outputs": [
    {
     "data": {
      "text/plain": [
       "[('0', 3083),\n",
       " ('', 3057),\n",
       " ('-', 2950),\n",
       " ('1', 102),\n",
       " ('sanfordsandra@yahoo.com', 1),\n",
       " ('walkerkeith@hotmail.com', 1),\n",
       " ('kjones@carrillo.com', 1),\n",
       " ('richard31@torres-rodriguez.net', 1),\n",
       " ('nicole66@gmail.com', 1),\n",
       " ('robert73@reed-johnson.info', 1)]"
      ]
     },
     "execution_count": 10,
     "metadata": {},
     "output_type": "execute_result"
    }
   ],
   "source": [
    "Counter(df.cell_value).most_common(10)"
   ]
  },
  {
   "cell_type": "markdown",
   "metadata": {},
   "source": [
    "#### Featurizers"
   ]
  },
  {
   "cell_type": "code",
   "execution_count": 11,
   "metadata": {},
   "outputs": [],
   "source": [
    "import re\n",
    "import uuid\n",
    "import phonenumbers\n",
    "\n",
    "def regex_feature(value, patt):\n",
    "    return re.search(patt, value.strip().lower()) is not None\n",
    "       \n",
    "def matches_email(value):\n",
    "    patt = (\n",
    "        r\"^([a-z0-9!#$%&'*+\\/=?^_`{|}~-]+(?:\\.[a-z0-9!#$%&'*+\\/=?^_`{|}~-]+)*\"\n",
    "        # Doesn't start with a period\n",
    "        r\"(@|\\sat\\s)\"  # requires `at` clause\n",
    "        r\"(?:[a-z0-9](?:[a-z0-9-]*[a-z0-9])?\"  # domain name doesn't start or end with a hyphen\n",
    "        r\"(\\.|\\sdot\\s))+\"  # one or more second level domains\n",
    "        r\"[a-z0-9](?:[a-z0-9-]*[a-z0-9])?)$\"  # top level domain doesn't start or end in a hyphen\n",
    "    )\n",
    "    return regex_feature(value, patt)\n",
    "\n",
    "def matches_uuid(value):\n",
    "    try:\n",
    "        uuid.UUID(value)\n",
    "        return True\n",
    "    except ValueError:\n",
    "        return False\n",
    "\n",
    "def matches_phone_number(value):\n",
    "    regions = [\"US\", None]\n",
    "    for region in regions:\n",
    "        try:\n",
    "            phone_number = phonenumbers.parse(value, region)\n",
    "            if phonenumbers.is_valid_number(phone_number):\n",
    "                return True\n",
    "        except phonenumbers.NumberParseException:\n",
    "            pass\n",
    "    return False\n",
    "\n",
    "def is_float(value):\n",
    "    try:\n",
    "        _ = float(value)\n",
    "        return True\n",
    "    except:\n",
    "        return False\n",
    "\n",
    "def is_int(value):\n",
    "    try:\n",
    "        _ = int(value)\n",
    "        return True\n",
    "    except:\n",
    "        return False\n",
    "    \n",
    "def is_len1(value):\n",
    "    return len(value) == 1\n"
   ]
  },
  {
   "cell_type": "code",
   "execution_count": 12,
   "metadata": {},
   "outputs": [],
   "source": [
    "featurizers = OrderedDict({\n",
    "    \"email\": matches_email,\n",
    "    \"uuid\": matches_uuid,\n",
    "    \"phone_number\": matches_phone_number,\n",
    "    \"is_float\": is_float,\n",
    "    \"is_int\": is_int,\n",
    "    \"is_len1\": is_len1\n",
    "})"
   ]
  },
  {
   "cell_type": "code",
   "execution_count": 13,
   "metadata": {
    "scrolled": true
   },
   "outputs": [],
   "source": [
    "def featurize(value, featurizers):\n",
    "    return OrderedDict({feature_name: feature_value(value) for feature_name, feature_value in featurizers.items()})\n",
    "\n",
    "def stringify_features(value, featurizers):\n",
    "    return ''.join([str(int(binary_feature)) for binary_feature in featurize(value, featurizers).values()])"
   ]
  },
  {
   "cell_type": "markdown",
   "metadata": {},
   "source": [
    "Here are a few examples of featurization"
   ]
  },
  {
   "cell_type": "code",
   "execution_count": 14,
   "metadata": {},
   "outputs": [
    {
     "data": {
      "text/plain": [
       "OrderedDict([('email', False),\n",
       "             ('uuid', False),\n",
       "             ('phone_number', False),\n",
       "             ('is_float', False),\n",
       "             ('is_int', False),\n",
       "             ('is_len1', False)])"
      ]
     },
     "execution_count": 14,
     "metadata": {},
     "output_type": "execute_result"
    }
   ],
   "source": [
    "featurize(\"---\", featurizers)"
   ]
  },
  {
   "cell_type": "code",
   "execution_count": 15,
   "metadata": {},
   "outputs": [
    {
     "data": {
      "text/plain": [
       "OrderedDict([('email', False),\n",
       "             ('uuid', False),\n",
       "             ('phone_number', False),\n",
       "             ('is_float', False),\n",
       "             ('is_int', False),\n",
       "             ('is_len1', True)])"
      ]
     },
     "execution_count": 15,
     "metadata": {},
     "output_type": "execute_result"
    }
   ],
   "source": [
    "featurize(\"-\", featurizers)"
   ]
  },
  {
   "cell_type": "code",
   "execution_count": 16,
   "metadata": {},
   "outputs": [
    {
     "data": {
      "text/plain": [
       "OrderedDict([('email', False),\n",
       "             ('uuid', False),\n",
       "             ('phone_number', True),\n",
       "             ('is_float', True),\n",
       "             ('is_int', True),\n",
       "             ('is_len1', False)])"
      ]
     },
     "execution_count": 16,
     "metadata": {},
     "output_type": "execute_result"
    }
   ],
   "source": [
    "featurize(\"18005551212\", featurizers)"
   ]
  },
  {
   "cell_type": "markdown",
   "metadata": {},
   "source": [
    "An example of stringifying a feature set"
   ]
  },
  {
   "cell_type": "code",
   "execution_count": 17,
   "metadata": {},
   "outputs": [
    {
     "data": {
      "text/plain": [
       "'001110'"
      ]
     },
     "execution_count": 17,
     "metadata": {},
     "output_type": "execute_result"
    }
   ],
   "source": [
    "stringify_features(\"18005551212\", featurizers)"
   ]
  },
  {
   "cell_type": "markdown",
   "metadata": {},
   "source": [
    "Apply the featurizers to the data and update the data frame. The Boolean features are turned into strings of 0 and 1 values which then form the **words** of our document set."
   ]
  },
  {
   "cell_type": "code",
   "execution_count": 18,
   "metadata": {},
   "outputs": [],
   "source": [
    "df.loc[:, \"word\"] = df.cell_value.apply(lambda x: stringify_features(x, featurizers))"
   ]
  },
  {
   "cell_type": "markdown",
   "metadata": {},
   "source": [
    "The most common feature words. Note that the bifurcation into placeholders and unique values has been removed."
   ]
  },
  {
   "cell_type": "code",
   "execution_count": 19,
   "metadata": {},
   "outputs": [
    {
     "data": {
      "text/plain": [
       "[('000000', 3186),\n",
       " ('000111', 3185),\n",
       " ('000001', 2950),\n",
       " ('000100', 209),\n",
       " ('100000', 202),\n",
       " ('010000', 191),\n",
       " ('001000', 56),\n",
       " ('000110', 21)]"
      ]
     },
     "execution_count": 19,
     "metadata": {},
     "output_type": "execute_result"
    }
   ],
   "source": [
    "Counter(df.word).most_common()"
   ]
  },
  {
   "cell_type": "markdown",
   "metadata": {},
   "source": [
    "#### Generating documents\n",
    "\n",
    "Here we generate documents composed of feature words "
   ]
  },
  {
   "cell_type": "code",
   "execution_count": 20,
   "metadata": {},
   "outputs": [],
   "source": [
    "# for actual terms\n",
    "docs_value = []\n",
    "for column_name in df.column_name.unique():\n",
    "    docs_value.append(\n",
    "        list(\n",
    "            df.query(\"column_name == \\\"{}\\\"\".format(column_name)).cell_value\n",
    "        )\n",
    "    )"
   ]
  },
  {
   "cell_type": "code",
   "execution_count": 21,
   "metadata": {},
   "outputs": [],
   "source": [
    "# for feature words\n",
    "docs_words = []\n",
    "for column_name in df.column_name.unique():\n",
    "    docs_words.append(\n",
    "        list(\n",
    "            df.query(\"column_name == \\\"{}\\\"\".format(column_name)).word\n",
    "        )\n",
    "    )"
   ]
  },
  {
   "cell_type": "code",
   "execution_count": 22,
   "metadata": {},
   "outputs": [],
   "source": [
    "# for unique values, i.e. sub-linear (binary) term frequency \n",
    "docs_unique = []\n",
    "for column_name in df.column_name.unique():\n",
    "    docs_unique.append(\n",
    "        list(\n",
    "            np.unique(df.query(\"column_name == \\\"{}\\\"\".format(column_name)).word)\n",
    "        )\n",
    "    )"
   ]
  },
  {
   "cell_type": "markdown",
   "metadata": {},
   "source": [
    "#### TF-IDF vectorization"
   ]
  },
  {
   "cell_type": "code",
   "execution_count": 23,
   "metadata": {},
   "outputs": [],
   "source": [
    "# need an identity function to pass to TF-IDF \n",
    "# since we've already parsed the terms into documents\n",
    "def identity_fun(x):\n",
    "    return x"
   ]
  },
  {
   "cell_type": "markdown",
   "metadata": {},
   "source": [
    "Here define the TF-IDF vectorizer. The relevant arguments are:\n",
    "\n",
    "* `analyzer`: we analyze at the word level, as opposed to character n-gram level\n",
    "* `preprocessor`: function to preprocess the values. Because we've already processed them, the identity function is used.\n",
    "* `tokenzier`: function to tokenize the values. Because we've already tokenized them, the identity function is used.\n",
    "* `token_pattern`: regular expression to tokenize the inputs. Because we've already tokenized them, the identity function is used.\n",
    "* `sublinear_tf`: Boolean to apply sublinear (logarithmic) term-frequency. A sublinear (binary) term-frequency is more appropriate for this problem so we apply it in a preporocessing step below. \n",
    "* `smooth_idf`: Boolean to apply smooth inverse-document-frequency. "
   ]
  },
  {
   "cell_type": "code",
   "execution_count": 24,
   "metadata": {},
   "outputs": [],
   "source": [
    "# Instantiate the TF-IDF vectorizer\n",
    "tfidf_mod = TfidfVectorizer(\n",
    "    analyzer='word',\n",
    "    preprocessor=identity_fun,\n",
    "    tokenizer=identity_fun,\n",
    "    token_pattern=None,\n",
    "    sublinear_tf=False,\n",
    "    smooth_idf=True\n",
    ")"
   ]
  },
  {
   "cell_type": "code",
   "execution_count": 25,
   "metadata": {},
   "outputs": [],
   "source": [
    "# generate the TF-IDF vectors for each of the three variations of document\n",
    "tfidf_value = tfidf_mod.fit_transform(docs_value)\n",
    "tfidf_words = tfidf_mod.fit_transform(docs_words)\n",
    "tfidf_unique = tfidf_mod.fit_transform(docs_unique)"
   ]
  },
  {
   "cell_type": "markdown",
   "metadata": {},
   "source": [
    "#### T-SNE plotting\n",
    "\n",
    "Here we apply t-distributed stochastic neighbor embedding (t-SNE) to the TF-IDF vectors to visualize similarities. This algorithm provides a way of visualizing similarities between points in a high dimensional space by projecting them to a lower dimensional space (e.g. 2-dimensions) while approximately maintaining relative distances. "
   ]
  },
  {
   "cell_type": "code",
   "execution_count": 26,
   "metadata": {},
   "outputs": [],
   "source": [
    "tsne_mod = TSNE(metric=\"cosine\", perplexity=20)"
   ]
  },
  {
   "cell_type": "markdown",
   "metadata": {},
   "source": [
    "The actual-terms documents"
   ]
  },
  {
   "cell_type": "code",
   "execution_count": 27,
   "metadata": {},
   "outputs": [],
   "source": [
    "Y = tsne_mod.fit_transform(tfidf_value.todense())"
   ]
  },
  {
   "cell_type": "code",
   "execution_count": 28,
   "metadata": {},
   "outputs": [],
   "source": [
    "pl_df = pd.DataFrame(Y).rename(columns={0: \"x1\", 1: \"x2\"})\n",
    "pl_df = pl_df.assign(data_class = labels)\n",
    "pl_df.to_csv(\"tsne_terms.csv\", index=False)"
   ]
  },
  {
   "cell_type": "code",
   "execution_count": 29,
   "metadata": {},
   "outputs": [
    {
     "data": {
      "image/png": "[encoded data removed]",
      "text/plain": [
       "<Figure size 432x288 with 1 Axes>"
      ]
     },
     "metadata": {},
     "output_type": "display_data"
    }
   ],
   "source": [
    "sns.scatterplot(x=\"x1\", y=\"x2\", hue=\"data_class\", style=\"data_class\", data=pl_df)\n",
    "plt.title(\"t-SNE: document actual terms\")"
   ]
  },
  {
   "cell_type": "markdown",
   "metadata": {},
   "source": [
    "The feature-words documents"
   ]
  },
  {
   "cell_type": "code",
   "execution_count": 30,
   "metadata": {},
   "outputs": [],
   "source": [
    "Y = tsne_mod.fit_transform(tfidf_words.todense())"
   ]
  },
  {
   "cell_type": "code",
   "execution_count": 31,
   "metadata": {},
   "outputs": [],
   "source": [
    "pl_df = pd.DataFrame(Y).rename(columns={0: \"x1\", 1: \"x2\"})\n",
    "pl_df = pl_df.assign(data_class = labels)\n",
    "pl_df.to_csv(\"tsne_tfidf.csv\", index=False)"
   ]
  },
  {
   "cell_type": "code",
   "execution_count": 32,
   "metadata": {},
   "outputs": [
    {
     "data": {
      "image/png": "[encoded data removed]",
      "text/plain": [
       "<Figure size 432x288 with 1 Axes>"
      ]
     },
     "metadata": {},
     "output_type": "display_data"
    }
   ],
   "source": [
    "a = sns.scatterplot(x=\"x1\", y=\"x2\", hue=\"data_class\", style=\"data_class\", data=pl_df)\n",
    "plt.title(\"t-SNE: document feature words\")"
   ]
  },
  {
   "cell_type": "markdown",
   "metadata": {},
   "source": [
    "The feature-words documents with sub-linear (binary) term frequencies"
   ]
  },
  {
   "cell_type": "code",
   "execution_count": 33,
   "metadata": {},
   "outputs": [],
   "source": [
    "Y = tsne_mod.fit_transform(tfidf_unique.todense())"
   ]
  },
  {
   "cell_type": "code",
   "execution_count": 34,
   "metadata": {},
   "outputs": [],
   "source": [
    "pl_df = pd.DataFrame(Y).rename(columns={0: \"x1\", 1: \"x2\"})\n",
    "pl_df = pl_df.assign(data_class = labels)\n",
    "pl_df.to_csv(\"tsne_tfidf_uniq.csv\", index=False)"
   ]
  },
  {
   "cell_type": "code",
   "execution_count": 35,
   "metadata": {},
   "outputs": [
    {
     "data": {
      "image/png": "[encoded data removed]",
      "text/plain": [
       "<Figure size 432x288 with 1 Axes>"
      ]
     },
     "metadata": {},
     "output_type": "display_data"
    }
   ],
   "source": [
    "a = sns.scatterplot(x=\"x1\", y=\"x2\", hue=\"data_class\", style=\"data_class\", data=pl_df)\n",
    "plt.title(\"t-SNE: document feature words with binary term-frequency\")"
   ]
  },
  {
   "cell_type": "markdown",
   "metadata": {},
   "source": [
    "The inverse-document values for the feature words, and the actual terms"
   ]
  },
  {
   "cell_type": "code",
   "execution_count": 36,
   "metadata": {},
   "outputs": [
    {
     "data": {
      "text/plain": [
       "array([1.        , 1.        , 2.57059808, 2.90707032, 1.        ,\n",
       "       2.67068154, 2.57059808, 2.57059808])"
      ]
     },
     "execution_count": 36,
     "metadata": {},
     "output_type": "execute_result"
    }
   ],
   "source": [
    "tfidf_mod.fit_transform(docs_words)\n",
    "tfidf_mod.idf_"
   ]
  },
  {
   "cell_type": "code",
   "execution_count": 37,
   "metadata": {},
   "outputs": [
    {
     "data": {
      "text/plain": [
       "array([1.        , 4.92197334, 4.92197334, 4.92197334, 4.92197334])"
      ]
     },
     "execution_count": 37,
     "metadata": {},
     "output_type": "execute_result"
    }
   ],
   "source": [
    "tfidf_mod.fit_transform(docs_value)\n",
    "tfidf_mod.idf_[0:5]"
   ]
  }
 ],
 "metadata": {
  "kernelspec": {
   "display_name": "Python 3",
   "language": "python",
   "name": "python3"
  },
  "language_info": {
   "codemirror_mode": {
    "name": "ipython",
    "version": 3
   },
   "file_extension": ".py",
   "mimetype": "text/x-python",
   "name": "python",
   "nbconvert_exporter": "python",
   "pygments_lexer": "ipython3",
   "version": "3.6.6"
  }
 },
 "nbformat": 4,
 "nbformat_minor": 2
}
